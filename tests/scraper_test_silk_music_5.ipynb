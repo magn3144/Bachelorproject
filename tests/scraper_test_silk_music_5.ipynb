{
 "cells": [
  {
   "cell_type": "code",
   "execution_count": 10,
   "metadata": {},
   "outputs": [],
   "source": [
    "import requests\n",
    "from bs4 import BeautifulSoup\n",
    "import csv"
   ]
  },
  {
   "cell_type": "code",
   "execution_count": 12,
   "metadata": {},
   "outputs": [
    {
     "name": "stdout",
     "output_type": "stream",
     "text": [
      "Scraping and CSV creation complete!\n"
     ]
    }
   ],
   "source": [
    "import requests\n",
    "import csv\n",
    "from bs4 import BeautifulSoup\n",
    "\n",
    "# URL of the webpage to scrape\n",
    "url = \"https://monstercat.fandom.com/wiki/Silk_Music_Discography\"\n",
    "\n",
    "# Send an HTTP GET request to the URL\n",
    "response = requests.get(url)\n",
    "\n",
    "# Parse the HTML content of the page using BeautifulSoup\n",
    "soup = BeautifulSoup(response.text, 'html.parser')\n",
    "\n",
    "# Create a CSV file for writing\n",
    "with open('silk_music_discography.csv', 'w', newline='', encoding='utf-8') as csvfile:\n",
    "    # Initialize a CSV writer\n",
    "    csv_writer = csv.writer(csvfile, delimiter=';')\n",
    "    \n",
    "    # Find all the tables in the page\n",
    "    tables = soup.find_all('table')\n",
    "    \n",
    "    # Loop through each table\n",
    "    for table in tables:\n",
    "        # Check if the table has at least 4 columns\n",
    "        rows = table.find_all('tr')\n",
    "        if len(rows) > 0 and len(rows[0].find_all('td')) >= 4:\n",
    "            # Iterate through rows skipping the header row\n",
    "            for row in rows[1:]:\n",
    "                # Get the Name and Artist columns (3rd and 4th columns)\n",
    "                columns = row.find_all('td')\n",
    "                if len(columns) >= 4:\n",
    "                    name = columns[2].get_text(strip=True)\n",
    "                    artist = columns[3].get_text(strip=True)\n",
    "                    \n",
    "                    # Write Name and Artist to the CSV file\n",
    "                    csv_writer.writerow([name, artist])\n",
    "\n",
    "print(\"Scraping and CSV creation complete!\")"
   ]
  }
 ],
 "metadata": {
  "kernelspec": {
   "display_name": "BP",
   "language": "python",
   "name": "python3"
  },
  "language_info": {
   "codemirror_mode": {
    "name": "ipython",
    "version": 3
   },
   "file_extension": ".py",
   "mimetype": "text/x-python",
   "name": "python",
   "nbconvert_exporter": "python",
   "pygments_lexer": "ipython3",
   "version": "3.11.4"
  },
  "orig_nbformat": 4
 },
 "nbformat": 4,
 "nbformat_minor": 2
}
