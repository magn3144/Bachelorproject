{
 "cells": [
  {
   "cell_type": "code",
   "execution_count": 1,
   "metadata": {},
   "outputs": [],
   "source": [
    "import requests\n",
    "from bs4 import BeautifulSoup\n",
    "import csv"
   ]
  },
  {
   "cell_type": "code",
   "execution_count": 3,
   "metadata": {},
   "outputs": [
    {
     "name": "stdout",
     "output_type": "stream",
     "text": [
      "Scraping and CSV writing complete.\n"
     ]
    }
   ],
   "source": [
    "import requests\n",
    "from bs4 import BeautifulSoup\n",
    "import csv\n",
    "\n",
    "# Define the URL of the website\n",
    "url = \"https://monstercat.fandom.com/wiki/Silk_Music_Discography\"\n",
    "\n",
    "# Send a GET request to the URL\n",
    "response = requests.get(url)\n",
    "\n",
    "# Check if the request was successful\n",
    "if response.status_code == 200:\n",
    "    # Parse the HTML content of the page\n",
    "    soup = BeautifulSoup(response.text, \"html.parser\")\n",
    "\n",
    "    # Find all tables in the page\n",
    "    tables = soup.find_all(\"table\")\n",
    "\n",
    "    # Create a CSV file for writing\n",
    "    with open(\"silk_music_discography.csv\", \"w\", newline=\"\", encoding=\"utf-8\") as csvfile:\n",
    "        # Initialize a CSV writer\n",
    "        csv_writer = csv.writer(csvfile, delimiter=\";\")\n",
    "\n",
    "        # Iterate through the tables\n",
    "        for table in tables:\n",
    "            # Check if the table has at least 4 columns (name and artist)\n",
    "            if len(table.find_all(\"th\")) >= 4:\n",
    "                # Iterate through the rows in the table\n",
    "                for row in table.find_all(\"tr\"):\n",
    "                    # Find all columns in the row\n",
    "                    columns = row.find_all(\"td\")\n",
    "\n",
    "                    # Check if there are at least 4 columns in the row\n",
    "                    if len(columns) >= 4:\n",
    "                        # Extract the name and artist from the 2nd and 3rd columns\n",
    "                        name = columns[1].get_text(strip=True)\n",
    "                        artist = columns[2].get_text(strip=True)\n",
    "\n",
    "                        # Write the name and artist to the CSV file\n",
    "                        csv_writer.writerow([name, artist])\n",
    "\n",
    "    print(\"Scraping and CSV writing complete.\")\n",
    "else:\n",
    "    print(\"Failed to retrieve the web page.\")"
   ]
  }
 ],
 "metadata": {
  "kernelspec": {
   "display_name": "BP",
   "language": "python",
   "name": "python3"
  },
  "language_info": {
   "codemirror_mode": {
    "name": "ipython",
    "version": 3
   },
   "file_extension": ".py",
   "mimetype": "text/x-python",
   "name": "python",
   "nbconvert_exporter": "python",
   "pygments_lexer": "ipython3",
   "version": "3.11.4"
  },
  "orig_nbformat": 4
 },
 "nbformat": 4,
 "nbformat_minor": 2
}
