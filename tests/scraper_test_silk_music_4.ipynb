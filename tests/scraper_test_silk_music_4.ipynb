{
 "cells": [
  {
   "cell_type": "code",
   "execution_count": 4,
   "metadata": {},
   "outputs": [],
   "source": [
    "import requests\n",
    "from bs4 import BeautifulSoup\n",
    "import csv"
   ]
  },
  {
   "cell_type": "code",
   "execution_count": 5,
   "metadata": {},
   "outputs": [
    {
     "name": "stdout",
     "output_type": "stream",
     "text": [
      "Data has been successfully scraped and saved to 'silk_music_discography.csv'.\n"
     ]
    }
   ],
   "source": [
    "# Define the URL of the website to scrape\n",
    "url = \"https://monstercat.fandom.com/wiki/Silk_Music_Discography\"\n",
    "\n",
    "# Send an HTTP GET request to the URL\n",
    "response = requests.get(url)\n",
    "\n",
    "# Check if the request was successful\n",
    "if response.status_code == 200:\n",
    "    # Parse the HTML content of the page using BeautifulSoup\n",
    "    soup = BeautifulSoup(response.text, 'html.parser')\n",
    "\n",
    "    # Find all tables on the page\n",
    "    tables = soup.find_all('table')\n",
    "\n",
    "    # Initialize empty lists to store LP names and artists\n",
    "    lp_names = []\n",
    "    artists = []\n",
    "\n",
    "    # Iterate through the tables to extract data\n",
    "    for table in tables:\n",
    "        rows = table.find_all('tr')\n",
    "        for row in rows:\n",
    "            # Find all the table data (td) elements in the row\n",
    "            columns = row.find_all('td')\n",
    "            if len(columns) >= 2:\n",
    "                # Extract LP name and artist from the second and third columns\n",
    "                lp_name = columns[1].get_text(strip=True)\n",
    "                artist = columns[2].get_text(strip=True)\n",
    "                lp_names.append(lp_name)\n",
    "                artists.append(artist)\n",
    "\n",
    "    # Create and write the data to a CSV file\n",
    "    with open('silk_music_discography.csv', 'w', newline='', encoding='utf-8') as csvfile:\n",
    "        writer = csv.writer(csvfile, delimiter=';')\n",
    "        # Write header row\n",
    "        writer.writerow(['Name', 'Artist'])\n",
    "        # Write LP names and artists\n",
    "        for lp_name, artist in zip(lp_names, artists):\n",
    "            writer.writerow([lp_name, artist])\n",
    "\n",
    "    print(\"Data has been successfully scraped and saved to 'silk_music_discography.csv'.\")\n",
    "else:\n",
    "    print(\"Failed to retrieve the webpage.\")"
   ]
  }
 ],
 "metadata": {
  "kernelspec": {
   "display_name": "BP",
   "language": "python",
   "name": "python3"
  },
  "language_info": {
   "codemirror_mode": {
    "name": "ipython",
    "version": 3
   },
   "file_extension": ".py",
   "mimetype": "text/x-python",
   "name": "python",
   "nbconvert_exporter": "python",
   "pygments_lexer": "ipython3",
   "version": "3.11.4"
  },
  "orig_nbformat": 4
 },
 "nbformat": 4,
 "nbformat_minor": 2
}
