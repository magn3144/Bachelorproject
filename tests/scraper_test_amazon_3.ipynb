{
 "cells": [
  {
   "cell_type": "code",
   "execution_count": 9,
   "metadata": {},
   "outputs": [
    {
     "name": "stdout",
     "output_type": "stream",
     "text": [
      "Fire TV Stick 4K with Alexa Voice Remote Pro\n",
      "\n",
      "Certified Refurbished Fire TV Stick streaming media player with Alexa built in, includes Alexa Voice Remote, HD, easy set-up, released 2019\n",
      "\n",
      "Amazon Fire TV Stick 4K Max with 2-Year Protection Plan\n",
      "\n",
      "Fire Stick Remote Replacement Compatible with Amazon Fire Stick (2nd Gen, 3rd Gen, Lite, 4K,4MAX), Fire Cube (1st Gen & 2nd Gen & 3nd Gen), Fire (3rd Gen, Control Fire Device)\n",
      "\n",
      "Fire TV Stick (3rd Gen) with Alexa Voice Remote (includes TV controls) + Star Wars The Mandalorian remote cover (Grogu Green)\n",
      "\n",
      "Roku Express (New) | HD Roku Streaming Device with Simple Remote (no TV controls), Free & Live TV\n",
      "\n",
      "Amazon Fire TV Stick 4K, brilliant 4K streaming quality, TV and smart home controls, free and live TV\n",
      "\n",
      "Amazon Fire TV Stick Lite Essentials Bundle with USB Power Cable\n",
      "\n",
      "Roku Streaming Stick 4K | Portable Roku Streaming Device 4K/HDR/Dolby Vision, Roku Voice Remote, Free & Live TV\n",
      "\n",
      "1nd Gen DR49WK B PE59CV Voice Remote Control for Amazon Smart TVs Stick (2nd Gen/3rd Gen/Lite/4K) for Amazon Smart TVs Cube (1st Gen/2nd Gen, and Later) for Amazon Smart TVs (3rd Gen, Pendant Design)\n",
      "\n",
      "Roku Streambar | 4K/HD/HDR Streaming Media Player & Premium Audio, All In One, Includes Roku Voice Remote (Renewed)\n",
      "\n",
      "Roku Express 4K+ | Roku Streaming Device 4K/HDR, Roku Voice Remote, Free & Live TV\n",
      "\n",
      "Amazon Fire TV Stick Lite, free and live TV, Alexa Voice Remote Lite, smart home controls, HD streaming\n",
      "\n",
      "Ultimate Entertainment Bundle: Includes Fire HD 10 Tablet & Fire TV Stick 4K\n",
      "\n",
      "BOXY Android TV 11 Box Streaming Media Player | Dune HD Media Center | Dolby Vision & Atmos | Mini PC | MKV/ISO 4K DV P7 FEL AFR, HDR10+, DTS | Netflix, Prime Video, Disney+, Apple TV+, HBO | Voice\n",
      "\n",
      "TiVo Stream 4K – Every Streaming App and Live TV on One Screen – 4K UHD, Dolby Vision HDR and Dolby Atmos Sound – Powered by Android TV – Plug-In Smart TV\n",
      "\n",
      "RockTek G2 4K Android TV 11.0 Streaming Box, Netflix & Google Certified TV Box with Google Assistant; HDR Movies, Dolby Vision-Atmos, WiFi 6 & Bluetooth 5 with Amlogic S905X4-K, 4GB DDR4 + 32GB eMMC\n",
      "\n",
      "fireCable Wireless Adapter for Firestick, Powers Fire Stick From TV's USB Port, Eleminating AC Outlet and Decluttering Wires\n",
      "\n",
      "Fire TV Stick with Alexa Voice Remote Bundle. Includes Fire TV Stick with Alexa Voice Remote (includes TV controls), HD streaming device & Made For Amazon USB Power Cable\n",
      "\n",
      "760 Miles Range TV Antenna 2023 Newest TV Antenna for Smart TV Digital HD Indoor Outdoor Antenna-Support 8K 4K 1080p Fire Stick All Old TV VHF UHF-Smart Switch Amplifier Signal Booster-30ft Coax Cable\n",
      "\n",
      "Fire TV Stick 4K Max (International Version) 4K streaming device, Wi-Fi 6, Alexa Voice Remote\n",
      "\n",
      "Amazon Fire TV Cube, Hands-free streaming device with Alexa, Wi-Fi 6E, 4K Ultra HD\n",
      "\n"
     ]
    }
   ],
   "source": [
    "import requests\n",
    "from bs4 import BeautifulSoup\n",
    "\n",
    "with open('Amazon.com _ amazon fire stick.html', 'r', encoding='utf-8') as file:\n",
    "    html_content = file.read()\n",
    "\n",
    "soup = BeautifulSoup(html_content, 'html.parser')\n",
    "\n",
    "titles = soup.find_all('span', class_=\"a-size-medium a-color-base a-text-normal\")\n",
    "\n",
    "for title in titles:\n",
    "    print(title.text + '\\n')"
   ]
  }
 ],
 "metadata": {
  "kernelspec": {
   "display_name": "BP",
   "language": "python",
   "name": "python3"
  },
  "language_info": {
   "codemirror_mode": {
    "name": "ipython",
    "version": 3
   },
   "file_extension": ".py",
   "mimetype": "text/x-python",
   "name": "python",
   "nbconvert_exporter": "python",
   "pygments_lexer": "ipython3",
   "version": "3.11.4"
  },
  "orig_nbformat": 4
 },
 "nbformat": 4,
 "nbformat_minor": 2
}
