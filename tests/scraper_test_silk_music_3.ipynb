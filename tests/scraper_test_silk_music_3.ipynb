{
 "cells": [
  {
   "cell_type": "code",
   "execution_count": 1,
   "metadata": {},
   "outputs": [],
   "source": [
    "import requests\n",
    "from bs4 import BeautifulSoup\n",
    "import csv"
   ]
  },
  {
   "cell_type": "code",
   "execution_count": 4,
   "metadata": {},
   "outputs": [
    {
     "name": "stdout",
     "output_type": "stream",
     "text": [
      "Scraped data has been saved to lp_data.csv\n"
     ]
    }
   ],
   "source": [
    "# Send an HTTP GET request to the website\n",
    "url = \"https://monstercat.fandom.com/wiki/Silk_Music_Discography\"\n",
    "response = requests.get(url)\n",
    "\n",
    "# Parse the HTML content of the page\n",
    "soup = BeautifulSoup(response.text, 'html.parser')\n",
    "\n",
    "# Find all the table rows in the HTML content\n",
    "table_rows = soup.find_all('tr')\n",
    "\n",
    "# Initialize an empty list to store LP data\n",
    "lp_data = []\n",
    "\n",
    "# Loop through the table rows\n",
    "for row in table_rows:\n",
    "    # Find all the anchor tags within the current row\n",
    "    anchor_tags = row.find_all('a')\n",
    "    \n",
    "    # Check if there are at least two anchor tags in the row\n",
    "    if len(anchor_tags) >= 2:\n",
    "        # Extract the LP name and artist from the anchor tags\n",
    "        lp_name = anchor_tags[0].text\n",
    "        artist_name = anchor_tags[1].text\n",
    "        \n",
    "        # Append the LP data as a tuple to the lp_data list\n",
    "        lp_data.append((lp_name, artist_name))\n",
    "\n",
    "# Specify the CSV file name\n",
    "csv_filename = \"lp_data.csv\"\n",
    "\n",
    "# Write the LP data to a CSV file with ';' as a separator\n",
    "with open(csv_filename, mode='w', newline='') as file:\n",
    "    writer = csv.writer(file, delimiter=';')\n",
    "    writer.writerow([\"Name\", \"Artist\"])  # Write header row\n",
    "    writer.writerows(lp_data)  # Write LP data rows\n",
    "\n",
    "print(f\"Scraped data has been saved to {csv_filename}\")"
   ]
  }
 ],
 "metadata": {
  "kernelspec": {
   "display_name": "BP",
   "language": "python",
   "name": "python3"
  },
  "language_info": {
   "codemirror_mode": {
    "name": "ipython",
    "version": 3
   },
   "file_extension": ".py",
   "mimetype": "text/x-python",
   "name": "python",
   "nbconvert_exporter": "python",
   "pygments_lexer": "ipython3",
   "version": "3.11.4"
  },
  "orig_nbformat": 4
 },
 "nbformat": 4,
 "nbformat_minor": 2
}
