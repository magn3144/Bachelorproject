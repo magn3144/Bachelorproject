{
 "cells": [
  {
   "cell_type": "code",
   "execution_count": 1,
   "metadata": {},
   "outputs": [],
   "source": [
    "import requests\n",
    "from bs4 import BeautifulSoup"
   ]
  },
  {
   "cell_type": "code",
   "execution_count": 2,
   "metadata": {},
   "outputs": [],
   "source": [
    "def scrape_product_page(url):\n",
    "    page = requests.get(url)\n",
    "    soup = BeautifulSoup(page.content, 'html.parser')\n",
    "    products = soup.find_all('div', class_='product')\n",
    "    for product in products:\n",
    "        title = product.find('h2', class_='product-title').text\n",
    "        image = product.find('img', class_='product-image')['src']\n",
    "        price = product.find('span', class_='product-price').text\n",
    "        print(f'Title: {title}\\nImage: {image}\\nPrice: {price}\\n')"
   ]
  },
  {
   "cell_type": "code",
   "execution_count": null,
   "metadata": {},
   "outputs": [],
   "source": [
    "scrape_product_page(\"https://www.amazon.com/s?k=amazon+fire+stick&crid=2Q2YAIZJROP29&sprefix=%2Caps%2C258&ref=nb_sb_ss_sx-trend-t-ps-d_4_0\")"
   ]
  }
 ],
 "metadata": {
  "kernelspec": {
   "display_name": "BP",
   "language": "python",
   "name": "python3"
  },
  "language_info": {
   "codemirror_mode": {
    "name": "ipython",
    "version": 3
   },
   "file_extension": ".py",
   "mimetype": "text/x-python",
   "name": "python",
   "nbconvert_exporter": "python",
   "pygments_lexer": "ipython3",
   "version": "3.10.12"
  },
  "orig_nbformat": 4
 },
 "nbformat": 4,
 "nbformat_minor": 2
}
