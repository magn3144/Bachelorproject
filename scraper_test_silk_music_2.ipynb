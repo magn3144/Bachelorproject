{
 "cells": [
  {
   "cell_type": "code",
   "execution_count": 2,
   "metadata": {},
   "outputs": [],
   "source": [
    "import requests\n",
    "from bs4 import BeautifulSoup\n",
    "import csv"
   ]
  },
  {
   "cell_type": "code",
   "execution_count": 8,
   "metadata": {},
   "outputs": [
    {
     "name": "stdout",
     "output_type": "stream",
     "text": [
      "Data has been scraped and saved to lp_data.csv\n"
     ]
    }
   ],
   "source": [
    "# Send a GET request to the URL\n",
    "url = \"https://monstercat.fandom.com/wiki/Silk_Music_Discography\"\n",
    "response = requests.get(url)\n",
    "\n",
    "# Parse the HTML content of the page\n",
    "soup = BeautifulSoup(response.text, \"html.parser\")\n",
    "\n",
    "# Find all the table rows in the first table on the page\n",
    "table = soup.find_all(\"table\")[0]\n",
    "rows = table.find_all(\"tr\")\n",
    "\n",
    "# Initialize a list to store LP data\n",
    "lp_data = []\n",
    "\n",
    "# Iterate through the rows\n",
    "for row in rows[1:]:  # Skip the header row\n",
    "    columns = row.find_all(\"td\")\n",
    "    if len(columns) >= 3:\n",
    "        # Extract LP name and artist from the columns\n",
    "        lp_name = columns[1].find(\"a\").get(\"title\")\n",
    "        lp_artist = columns[2].find(\"a\").get(\"title\")\n",
    "        \n",
    "        # Append LP data to the list\n",
    "        lp_data.append([lp_name, lp_artist])\n",
    "\n",
    "# Write the LP data to a CSV file\n",
    "with open(\"lp_data.csv\", \"w\", newline=\"\") as csvfile:\n",
    "    csv_writer = csv.writer(csvfile, delimiter=\";\")\n",
    "    \n",
    "    # Write the header row\n",
    "    csv_writer.writerow([\"Name\", \"Artist\"])\n",
    "    \n",
    "    # Write LP data\n",
    "    csv_writer.writerows(lp_data)\n",
    "\n",
    "print(\"Data has been scraped and saved to lp_data.csv\")"
   ]
  }
 ],
 "metadata": {
  "kernelspec": {
   "display_name": "BP",
   "language": "python",
   "name": "python3"
  },
  "language_info": {
   "codemirror_mode": {
    "name": "ipython",
    "version": 3
   },
   "file_extension": ".py",
   "mimetype": "text/x-python",
   "name": "python",
   "nbconvert_exporter": "python",
   "pygments_lexer": "ipython3",
   "version": "3.11.4"
  },
  "orig_nbformat": 4
 },
 "nbformat": 4,
 "nbformat_minor": 2
}
