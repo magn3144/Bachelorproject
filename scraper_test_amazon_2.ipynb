{
 "cells": [
  {
   "cell_type": "code",
   "execution_count": 1,
   "metadata": {},
   "outputs": [],
   "source": [
    "import requests\n",
    "from bs4 import BeautifulSoup\n",
    "\n",
    "url = 'https://www.amazon.com/s?k=amazon+fire+stick&crid=2Q2YAIZJROP29&sprefix=%2Caps%2C258&ref=nb_sb_ss_sx-trend-t-ps-d_4_0'\n",
    "\n",
    "headers = {\n",
    "    'User-Agent': 'Mozilla/5.0 (Windows NT 10.0; Win64; x64) AppleWebKit/537.36 (KHTML, like Gecko) Chrome/58.0.3029.110 Safari/537.3'\n",
    "}\n",
    "\n",
    "page = requests.get(url, headers=headers)\n",
    "soup = BeautifulSoup(page.content, 'html.parser')\n",
    "\n",
    "products = soup.find_all('div', {'data-index': lambda x: x and x.isdigit()})\n",
    "\n",
    "for product in products:\n",
    "    title_element = product.find('span', {'class': 'a-size-medium a-color-base a-text-normal'})\n",
    "    image_element = product.find('img', {'class': 's-image'})\n",
    "    price_element = product.find('span', {'class': 'a-price'})\n",
    "\n",
    "    if title_element and image_element and price_element:\n",
    "        title = title_element.text\n",
    "        image_url = image_element['src']\n",
    "        price = price_element.text\n",
    "\n",
    "        print(f'Product: {title}')\n",
    "        print(f'Image URL: {image_url}')\n",
    "        print(f'Price: {price}')\n",
    "        print()"
   ]
  }
 ],
 "metadata": {
  "kernelspec": {
   "display_name": "BP",
   "language": "python",
   "name": "python3"
  },
  "language_info": {
   "codemirror_mode": {
    "name": "ipython",
    "version": 3
   },
   "file_extension": ".py",
   "mimetype": "text/x-python",
   "name": "python",
   "nbconvert_exporter": "python",
   "pygments_lexer": "ipython3",
   "version": "3.10.12"
  },
  "orig_nbformat": 4
 },
 "nbformat": 4,
 "nbformat_minor": 2
}
