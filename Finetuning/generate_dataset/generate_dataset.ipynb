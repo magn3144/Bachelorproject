{
 "cells": [
  {
   "cell_type": "code",
   "execution_count": null,
   "metadata": {},
   "outputs": [],
   "source": [
    "from download_websites import download_websites\n",
    "from generate_scraping_tasks import generate_scraping_tasks\n",
    "from generate_solution_code import generate_solution_code\n",
    "from extract_html_info import extract_relevant_information\n",
    "\n",
    "import pandas as pd\n",
    "import os"
   ]
  },
  {
   "cell_type": "code",
   "execution_count": null,
   "metadata": {},
   "outputs": [],
   "source": [
    "websites_csv = 'websites.csv'\n",
    "save_folder = 'downloaded_pages'\n",
    "ROWS = (0, 44)\n",
    "NUM_TASKS_PER_WEBSITE = 10\n",
    "\n",
    "# Download websites\n",
    "# download_websites(websites_csv, save_folder)\n",
    "\n",
    "# Generate scraping tasks and solutions\n",
    "websites = pd.read_csv(websites_csv)\n",
    "\n",
    "for i, row in websites.iterrows():\n",
    "    if i < ROWS[0] or i > ROWS[1]:\n",
    "        continue\n",
    "\n",
    "    category, website, link = row\n",
    "    HTML_file = f'{save_folder}/{website}.html'\n",
    "\n",
    "    if os.path.exists(f'solution_code/{website}'):\n",
    "        print(f'{website} already has data')\n",
    "        continue\n",
    "\n",
    "    if not os.path.exists(HTML_file):\n",
    "        print(f'{website}.html does not exist')\n",
    "        continue\n",
    "\n",
    "    HTML_elements = extract_relevant_information(HTML_file)\n",
    "    with open(f'extracted_info/{website}.txt', 'w') as f:\n",
    "        f.write(HTML_elements)\n",
    "\n",
    "    generate_scraping_tasks(link, website, category, HTML_elements, NUM_TASKS_PER_WEBSITE)\n",
    "    with open(f'scraping_tasks/{website}.txt', 'r') as f:\n",
    "        scraping_tasks = pd.DataFrame([{'task': task} for task in f.readlines()])\n",
    "\n",
    "    for i, task in scraping_tasks.iterrows():\n",
    "        task = task['task']\n",
    "        generate_solution_code(website, HTML_file, category, HTML_elements, task, i)\n",
    "     \n",
    "    print(f'Generated data for {website}')"
   ]
  },
  {
   "cell_type": "code",
   "execution_count": null,
   "metadata": {},
   "outputs": [],
   "source": [
    "# Combine all scraping tasks and solutions into one file\n",
    "\n",
    "# Load prompts\n",
    "system_prompt = pd.read_csv('prompts/generate_solution_code_system_prompt.txt')\n",
    "user_prompt = pd.read_csv('prompts/generate_solution_code_user_prompt.txt')\n",
    "\n",
    "# Load extracted info\n",
    "extracted_info = {}\n",
    "for filename in os.listdir('extracted_info'):\n",
    "    with open(f'extracted_info/{filename}', 'r') as f:\n",
    "        extracted_info[filename.split('.')[0]] = f.read()\n",
    "    \n",
    "# Load scraping tasks\n",
    "scraping_tasks = {}\n",
    "for filename in os.listdir('scraping_tasks'):\n",
    "    with open(f'scraping_tasks/{filename}', 'r') as f:\n",
    "        scraping_tasks[filename.split('.')[0]] = f.readlines()\n",
    "\n",
    "# Load solutions\n",
    "solutions = {}\n",
    "for folder in os.listdir('solutions'):\n",
    "    solutions[folder] = {}\n",
    "    for filename in os.listdir(f'solutions/{folder}'):\n",
    "        with open(f'solutions/{folder}/{filename}', 'r') as f:\n",
    "            solutions[folder][filename.split('.')[0]] = f.read()\n",
    "\n",
    "# Generate prompts\n",
    "prompts = {} # Dictionary of dictionaries\n"
   ]
  }
 ],
 "metadata": {
  "kernelspec": {
   "display_name": "BP",
   "language": "python",
   "name": "python3"
  },
  "language_info": {
   "codemirror_mode": {
    "name": "ipython",
    "version": 3
   },
   "file_extension": ".py",
   "mimetype": "text/x-python",
   "name": "python",
   "nbconvert_exporter": "python",
   "pygments_lexer": "ipython3",
   "version": "3.11.4"
  }
 },
 "nbformat": 4,
 "nbformat_minor": 2
}
