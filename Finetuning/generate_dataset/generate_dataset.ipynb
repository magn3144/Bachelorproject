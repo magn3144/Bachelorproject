{
 "cells": [
  {
   "cell_type": "code",
   "execution_count": null,
   "metadata": {},
   "outputs": [],
   "source": [
    "from download_websites import download_websites\n",
    "from generate_scraping_tasks import generate_scraping_tasks\n",
    "from generate_solution_code import generate_solution_code\n",
    "from extract_html_info import extract_relevant_information\n",
    "\n",
    "import pandas as pd"
   ]
  },
  {
   "cell_type": "code",
   "execution_count": 4,
   "metadata": {},
   "outputs": [],
   "source": [
    "websites_csv = 'websites.csv'\n",
    "save_folder = 'downloaded_pages'\n",
    "ROWS = (0, 0)\n",
    "NUM_TASKS_PER_WEBSITE = 1\n",
    "\n",
    "# Download websites\n",
    "# download_websites(websites_csv, save_folder)\n",
    "\n",
    "# Generate scraping tasks\n",
    "websites = pd.read_csv(websites_csv)\n",
    "\n",
    "for i, row in websites.iterrows():\n",
    "    if i < ROWS[0] or i > ROWS[1]:\n",
    "        continue\n",
    "\n",
    "    category, website, link = row\n",
    "    HTML_file = f'{save_folder}/{website}.html'\n",
    "    HTML_elements = extract_relevant_information(HTML_file)\n",
    "    with open(f'extracted_info/{website}.txt', 'w') as f:\n",
    "        f.write(HTML_elements)\n",
    "\n",
    "    generate_scraping_tasks(link, website, category, HTML_elements, NUM_TASKS_PER_WEBSITE)\n",
    "    with open(f'scraping_tasks/{website}.txt', 'r') as f:\n",
    "        scraping_tasks = pd.DataFrame([{'task': task} for task in f.readlines()])\n",
    "\n",
    "    for i, task in scraping_tasks.iterrows():\n",
    "        task = task['task']\n",
    "        generate_solution_code(website, HTML_file, category, HTML_elements, task, i)"
   ]
  },
  {
   "cell_type": "code",
   "execution_count": null,
   "metadata": {},
   "outputs": [],
   "source": [
    "import pandas as pd\n",
    "\n",
    "# Load all csv files in folder\n",
    "folder = \"old/CSV_files/split_csv/\"\n",
    "all_csv = [folder + \"websites_0.csv\", folder + \"websites_1.csv\", folder + \"websites_2.csv\"]\n",
    "\n",
    "# Concatenate all files in the list\n",
    "df_from_each_file = (pd.read_csv(f) for f in all_csv)\n",
    "df_merged = pd.concat(df_from_each_file, ignore_index=True)\n",
    "\n",
    "# Dublicate second column\n",
    "df_merged['Link'] = df_merged['Website']\n",
    "\n",
    "# Remove .ending (fx .com .net etc) from website name\n",
    "df_merged['Website'] = df_merged['Website'].str.replace('.com', '').str.replace('.net', '').str.replace('.org', '').str.replace('.uk', '').str.replace('.gov', '').str.replace('.mil', '').str.replace('.int', '')\n",
    "\n",
    "# Save to csv\n",
    "df_merged.to_csv('websites.csv', index=False)\n"
   ]
  },
  {
   "cell_type": "code",
   "execution_count": null,
   "metadata": {},
   "outputs": [],
   "source": [
    "df = pd.read_csv('websites.csv')\n",
    "\n",
    "# Shuffle rows\n",
    "df = df.sample(frac=1).reset_index(drop=True)\n",
    "\n",
    "# Save to csv\n",
    "df.to_csv('websites.csv', index=False)"
   ]
  }
 ],
 "metadata": {
  "kernelspec": {
   "display_name": "BP",
   "language": "python",
   "name": "python3"
  },
  "language_info": {
   "codemirror_mode": {
    "name": "ipython",
    "version": 3
   },
   "file_extension": ".py",
   "mimetype": "text/x-python",
   "name": "python",
   "nbconvert_exporter": "python",
   "pygments_lexer": "ipython3",
   "version": "3.11.4"
  }
 },
 "nbformat": 4,
 "nbformat_minor": 2
}
