{
 "cells": [
  {
   "cell_type": "code",
   "execution_count": 1,
   "metadata": {},
   "outputs": [],
   "source": [
    "import os\n",
    "import openai\n",
    "openai.api_key = os.getenv(\"OPENAI_API_KEY\")\n",
    "# openai.Model.list()"
   ]
  },
  {
   "cell_type": "code",
   "execution_count": 2,
   "metadata": {},
   "outputs": [],
   "source": [
    "def get_response(system_prompt, user_prompt):\n",
    "    completion = openai.ChatCompletion.create(\n",
    "        model=\"gpt-3.5-turbo\",\n",
    "        messages=[\n",
    "            {\"role\": \"system\", \"content\": system_prompt},\n",
    "            {\"role\": \"user\", \"content\": user_prompt}\n",
    "        ]\n",
    "    )\n",
    "    return completion.choices[0].message.content"
   ]
  },
  {
   "cell_type": "code",
   "execution_count": 3,
   "metadata": {},
   "outputs": [],
   "source": [
    "def generate_scraping_tasks(link, category, HTML_string, num_tasks):\n",
    "    \"\"\"\n",
    "    Generate a text prompt for GPT-4 of what should be scraped from the given page.\n",
    "\n",
    "    Parameters:\n",
    "    link (str): The URL of the page to be scraped.\n",
    "    category (str): The category of the page. E.g. stocks or social media.\n",
    "    HTML_string (str): The HTML of the body of the page to be scraped.\n",
    "    num_tasks (int): The number of tasks to generate.\n",
    "    \"\"\"\n",
    "\n",
    "    # Load prompt templates from txt file\n",
    "    system_prompt = open(\"prompts/generate_scraping_tasks_system_prompt.txt\", \"r\").read()\n",
    "    user_prompt = open(\"prompts/generate_scraping_tasks_user_prompt.txt\", \"r\").read()\n",
    "\n",
    "    # Fill in the templates\n",
    "    user_prompt = user_prompt.format(link=link, category=category, HTML_string=HTML_string, num_tasks=num_tasks)\n",
    "\n",
    "    # Get response from GPT-4\n",
    "    response = get_response(system_prompt, user_prompt)\n",
    "\n",
    "    # Extract the tasks from the response\n",
    "    tasks = response.split(\"\\n\")\n",
    "\n",
    "    # Remove the \"- \" prefix from each task\n",
    "    tasks = [task.split(\"- \")[1] if \"- \" in task else task for task in tasks]\n",
    "\n",
    "    return tasks"
   ]
  },
  {
   "cell_type": "code",
   "execution_count": 4,
   "metadata": {},
   "outputs": [
    {
     "name": "stdout",
     "output_type": "stream",
     "text": [
      "['Get the username of the person who posted the content', 'Scrape the timestamp of the post', 'Extract the number of comments on the post', 'Retrieve the total number of upvotes on the post', 'Scrape the total number of downvotes on the post', 'Extract the title of the post', 'Get the URL of the post', 'Retrieve the content of the post', 'Scrape the number of awards received by the post', 'Extract the username of the first commenter on the post']\n"
     ]
    }
   ],
   "source": [
    "link = \"https://www.reddit.com/r/wallstreetbets/comments/179yndm/update_on_50k_nvda_puts/\"\n",
    "category = \"social media\"\n",
    "HTML_string = \"\"\"\n",
    "</style></div><div class=\"Ywkt6EDfNWINeTr9lP29H\"><div class=\"_3AStxql1mQsrZuUIFP9xSg iaAYGvTNtknkTxuHArCzL\" data-adclicklocation=\"top_bar\"><span class=\"_2fCzxBE1dlMh4OFc7B3Dun\" style=\"color: rgb(129, 131, 132);\">Posted by</span><div class=\"_2mHuuvyV9doV3zwbZPtIPG\"><div id=\"UserInfoTooltip--t3_179yndm\"><a class=\"_2tbHP6ZydRpjI44J3syuqC  _23wugcdiaj44hdfugIAlnX oQctV4n0yUb0uiHDdGnmE\" data-click-id=\"user\" data-testid=\"post_author_link\" href=\"https://www.reddit.com/user/LiquidatedAF/\" style=\"color: rgb(129, 131, 132);\">u/LiquidatedAF</a></div></div><div class=\"NAURX0ARMmhJ5eqxQrlQW\"><div class=\"_2X6EB3ZhEeXCh1eIVA64XM _2hSecp_zkPm_s5ddV2htoj \" style=\"background-color: rgb(255, 255, 255); color: rgb(0, 0, 0);\"><span>Liquidated Jensen Huang</span></div></div><span class=\"_2VF2J19pUIMSLJFky-7PEI\" data-testid=\"post_timestamp\" data-click-id=\"timestamp\" style=\"color: rgb(129, 131, 132);\">20 hours ago</span></div><div></div></div><div class=\"_36kpXQ-z7Hr61j8878uRkP\"><button aria-expanded=\"true\" aria-haspopup=\"true\" aria-label=\"Expand content\" class=\"_35zWJjb5RJMIMkexZ2Prus RvLtAcdRtbOQbhFB7MD_T\" data-click-id=\"expando_close\" data-adclicklocation=\"media\"><i class=\"saNpcHve-34zjaa0cbIxW icon icon-collapse\"></i></button><div class=\"_1E9mcoVn4MYnuBQSVDt1gC _2oM1YqCxIwkvwyeZamWwhW _3ytybPoFoY12sGn375PMy1\" id=\"vote-arrows-t3_179yndm\"><button aria-label=\"upvote\" aria-pressed=\"false\" class=\"voteButton \" data-click-id=\"upvote\" data-adclicklocation=\"upvote\"><span class=\"_2q7IQ0BUOWeEZoeAxN555e _3SUsITjKNQ7Tp0Wi2jGxIM qW0l8Af61EP35WIG6vnGk _3edNsMs0PNfyQYofMNVhsG\"><i class=\"icon icon-upvote _2Jxk822qXs4DaXwsN7yyHA\"></i></span></button><div class=\"_1rZYMD_4xY3gRcSS3p8ODO _25IkBM0rRUqWX5ZojEMAFQ\" style=\"color: rgb(215, 218, 220);\">4.3k</div><button aria-label=\"downvote\" aria-pressed=\"false\" class=\"voteButton\" data-click-id=\"downvote\" data-adclicklocation=\"downvote\"><span class=\"_1iKd82bq_nqObFvSH1iC_Q Q0BxYHtCOJ_rNSPJMU2Y7 _2fe-KdD2OM0ciaiux-G1EL _3yQIOwaIuF6gn8db96Gu7y\"><i class=\"icon icon-downvote ZyxIIl4FP5gHGrJDzNpUC\"></i></span></button></div><div class=\"x7sinePdvDKj7bf-cdm4Z _1wDt70OnYnqsrm0XIsNn8v\"></div><div class=\"_3-miAEojrCvx_4FQ8x3P-s ssgs3QQidkqeycI33hlBa\"><a rel=\"nofollow\" data-click-id=\"comments\" data-adclicklocation=\"comments\" data-test-id=\"comments-page-link-num-comments\" class=\"_1UoeAeSRhOKSNdY_h3iS1O _1Hw7tY9pMr-T1F4P1C-xNU _3U_7i38RDPV5eBv7m4M-9J _2qww3J5KKzsD7e5DO0BvvU\" href=\"https://www.reddit.com/r/wallstreetbets/comments/179yndm/update_on_50k_nvda_puts/\"><i class=\"icon icon-comment _3DVrpDrMM9NLT6TlsTUMxC\" role=\"presentation\"></i><span class=\"FHCV02u6Cp2zYL0fhQPsO\">394 comments</span></a><div class=\"_JRBNstMcGxbZUxrrIKXe _3U_7i38RDPV5eBv7m4M-9J _3yh2bniLq7bYr4BaiXowdO _1pShbCnOaF7EGWTq6IvZux _28vEaVlLWeas1CDiLuTCap\" id=\"t3_179yndm-share-menu\"><button data-click-id=\"share\" data-adclicklocation=\"fl_share\" class=\"kU8ebCMnbXfjCWfqn0WPb\"><i class=\"icon icon-share _1GQDWqbF-wkYWbrpmOvjqJ\"></i><span class=\"_6_44iTtZoeY6_XChKt5b0\">share</span></button></div><div data-ignore-click=\"false\" class=\"_3U_7i38RDPV5eBv7m4M-9J\" data-adclicklocation=\"fl_unknown\"><button class=\"_10K5i7NW6qcm-UoCtpB3aK YszYBnnIoNY8pZ6UwCivd _3yh2bniLq7bYr4BaiXowdO _2sAFaB0tx4Hd5KxVkdUcAx _28vEaVlLWeas1CDiLuTCap\"><span class=\"pthKOcceozMuXLYrLlbL1\"><i class=\"_1Xe01txJfRB9udUU85DNeR icon icon-save\"></i></span><span class=\"_2-cXnP74241WI7fpcpfPmg _70940WUuFmpHbhKlj8EjZ\">save</span></button></div><div data-ignore-click=\"false\" class=\"_3U_7i38RDPV5eBv7m4M-9J\" data-adclicklocation=\"fl_unknown\"><button class=\"_10K5i7NW6qcm-UoCtpB3aK YszYBnnIoNY8pZ6UwCivd _3yh2bniLq7bYr4BaiXowdO _2sAFaB0tx4Hd5KxVkdUcAx _28vEaVlLWeas1CDiLuTCap\"><span class=\"pthKOcceozMuXLYrLlbL1\"><i class=\"icon icon-hide\"></i></span><span class=\"_2-cXnP74241WI7fpcpfPmg _70940WUuFmpHbhKlj8EjZ\">hide</span></button></div><div data-ignore-click=\"false\" class=\"_3U_7i38RDPV5eBv7m4M-9J\" data-adclicklocation=\"fl_unknown\"><button class=\"_10K5i7NW6qcm-UoCtpB3aK YszYBnnIoNY8pZ6UwCivd _3yh2bniLq7bYr4BaiXowdO _2sAFaB0tx4Hd5KxVkdUcAx _28vEaVlLWeas1CDiLuTCap\"><span class=\"pthKOcceozMuXLYrLlbL1\"><i class=\"icon icon-report\"></i></span><span class=\"_2-cXnP74241WI7fpcpfPmg _70940WUuFmpHbhKlj8EjZ\">report</span></button></div><div class=\"OccjSdFd6HkHhShRg6DOl\"></div><div class=\"action-brave-tip\" style=\"display: flex; align-items: center;\"><template shadowrootmode=\"open\"><button class=\"reddit-actionButton\" type=\"button\" style=\"background: transparent; border: none; border-radius: 2px; color: inherit; cursor: pointer; font: inherit; height: 100%; padding: 8px; width: auto;\"><style>.reddit-actionButton {}</style><span class=\"IconContainer\"><span class=\"tip-icon--medium\" style=\"background: transparent; content: url(&quot;data:image/svg+xml,%3Csvg%20fill%3D%22inherit%22%20xmlns%3D%22http%3A%2F%2Fwww.w3.org%2F2000%2Fsvg%22%20viewBox%3D%220%200%2015%2016%22%3E%3Cpath%20fill-rule%3D%22evenodd%22%20clip-rule%3D%22evenodd%22%20d%3D%22M10.821%2011.1L8.075%206.732v-2.38l4.917%208.195-2.17-1.447zm-6.03.965h5.397l1.752%201.168H2.747l2.043-1.168zm2.13-5.333L4.187%2011.08l-1.983%201.133%204.717-7.861v2.38zm.577%201.251l1.841%202.928H5.657l1.841-2.928zm7.42%205.53L7.993%201.97c-.018-.03-.043-.054-.066-.08a.568.568%200%2000-.429-.2.57.57%200%2000-.43.2c-.022.026-.047.05-.064.08L.079%2013.513a.59.59%200%2000-.061.143c-.002.004-.002.007-.002.01a.571.571%200%2000-.008.237.56.56%200%2000.064.193c.01.017.023.029.034.044.02.026.037.055.06.077.021.022.047.038.071.057.017.011.031.025.048.035.027.016.056.025.085.036.018.007.035.016.054.022a.597.597%200%2000.132.017c.006%200%20.012.003.017.003h13.85a.576.576%200%2000.495-.874z%22%20fill%3D%22%236A7684%22%2F%3E%3C%2Fsvg%3E&quot;); height: 20px; vertical-align: middle; width: 20px;\"></span></span><span class=\"reddit-actionCount\" style=\"color: inherit; line-height: 12px; margin: 0px; vertical-align: middle;\"><span class=\"reddit-actionButton\">Tip</span></span></button><style>:host { outline: \n",
    "\"\"\"\n",
    "num_tasks = 10\n",
    "\n",
    "tasks = generate_scraping_tasks(link, category, HTML_string, num_tasks)\n",
    "print(tasks)\n",
    "\n",
    "# Create directory for tasks\n",
    "if not os.path.exists('CSV_files/tasks'):\n",
    "    os.makedirs('CSV_files/tasks')\n",
    "\n",
    "# Save tasks to csv file with header row\n",
    "import pandas as pd\n",
    "df = pd.DataFrame(tasks)\n",
    "df.to_csv('CSV_files/tasks/scraping_tasks.csv', index=False, header=False)"
   ]
  }
 ],
 "metadata": {
  "kernelspec": {
   "display_name": "BP",
   "language": "python",
   "name": "python3"
  },
  "language_info": {
   "codemirror_mode": {
    "name": "ipython",
    "version": 3
   },
   "file_extension": ".py",
   "mimetype": "text/x-python",
   "name": "python",
   "nbconvert_exporter": "python",
   "pygments_lexer": "ipython3",
   "version": "3.10.12"
  }
 },
 "nbformat": 4,
 "nbformat_minor": 2
}
