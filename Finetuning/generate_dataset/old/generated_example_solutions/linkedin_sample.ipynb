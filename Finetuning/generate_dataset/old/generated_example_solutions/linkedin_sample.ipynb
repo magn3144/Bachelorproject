{
 "cells": [
  {
   "cell_type": "code",
   "execution_count": 2,
   "metadata": {},
   "outputs": [],
   "source": [
    "from bs4 import BeautifulSoup\n",
    "import csv\n",
    "\n",
    "# Read the local HTML file\n",
    "with open('../downloaded_pages/linkedin.com.html', 'r', encoding='utf-8') as file:\n",
    "    html_content = file.read()\n",
    "\n",
    "# Initialize BeautifulSoup\n",
    "soup = BeautifulSoup(html_content, 'html.parser')\n",
    "\n",
    "# Initialize CSV writer and write headers\n",
    "csv_file = open('job_titles.csv', 'w', newline='', encoding='utf-8')\n",
    "csv_writer = csv.writer(csv_file)\n",
    "csv_writer.writerow(['Job Title'])\n",
    "\n",
    "# Find all job titles based on the observed pattern\n",
    "for h2_tag in soup.find_all('h2'):\n",
    "    if 'aria-describedby' in h2_tag.attrs:\n",
    "        job_title = h2_tag.get_text().strip()\n",
    "        csv_writer.writerow([job_title])\n",
    "\n",
    "# Close CSV file\n",
    "csv_file.close()"
   ]
  }
 ],
 "metadata": {
  "kernelspec": {
   "display_name": "BP",
   "language": "python",
   "name": "python3"
  },
  "language_info": {
   "codemirror_mode": {
    "name": "ipython",
    "version": 3
   },
   "file_extension": ".py",
   "mimetype": "text/x-python",
   "name": "python",
   "nbconvert_exporter": "python",
   "pygments_lexer": "ipython3",
   "version": "3.10.12"
  }
 },
 "nbformat": 4,
 "nbformat_minor": 2
}
