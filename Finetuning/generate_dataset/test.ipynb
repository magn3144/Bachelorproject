{
 "cells": [
  {
   "cell_type": "code",
   "execution_count": 1,
   "metadata": {},
   "outputs": [
    {
     "ename": "FileNotFoundError",
     "evalue": "[Errno 2] No such file or directory: 'downloaded_pages/DTU-entrepreneurship.html'",
     "output_type": "error",
     "traceback": [
      "\u001b[1;31m---------------------------------------------------------------------------\u001b[0m",
      "\u001b[1;31mFileNotFoundError\u001b[0m                         Traceback (most recent call last)",
      "\u001b[1;32mc:\\Users\\magnu\\Documents\\GitHub Projects\\Bachelorproject\\Finetuning\\generate_dataset\\test.ipynb Cell 1\u001b[0m line \u001b[0;36m1\n\u001b[1;32m----> <a href='vscode-notebook-cell:/c%3A/Users/magnu/Documents/GitHub%20Projects/Bachelorproject/Finetuning/generate_dataset/test.ipynb#W0sZmlsZQ%3D%3D?line=0'>1</a>\u001b[0m \u001b[39mfrom\u001b[39;00m \u001b[39mmodels_data\u001b[39;00m\u001b[39m.\u001b[39;00m\u001b[39mfinetuned\u001b[39;00m\u001b[39m.\u001b[39;00m\u001b[39mextracted_code\u001b[39;00m \u001b[39mimport\u001b[39;00m response_0_code\n",
      "File \u001b[1;32mc:\\Users\\magnu\\Documents\\GitHub Projects\\Bachelorproject\\Finetuning\\generate_dataset\\models_data\\finetuned\\extracted_code\\response_0_code.py:5\u001b[0m\n\u001b[0;32m      2\u001b[0m \u001b[39mfrom\u001b[39;00m \u001b[39mlxml\u001b[39;00m \u001b[39mimport\u001b[39;00m html\n\u001b[0;32m      4\u001b[0m \u001b[39m# Load the HTML file\u001b[39;00m\n\u001b[1;32m----> 5\u001b[0m \u001b[39mwith\u001b[39;00m \u001b[39mopen\u001b[39;49m(\u001b[39m'\u001b[39;49m\u001b[39mdownloaded_pages/DTU-entrepreneurship.html\u001b[39;49m\u001b[39m'\u001b[39;49m, \u001b[39m'\u001b[39;49m\u001b[39mr\u001b[39;49m\u001b[39m'\u001b[39;49m) \u001b[39mas\u001b[39;00m f:\n\u001b[0;32m      6\u001b[0m     html_content \u001b[39m=\u001b[39m f\u001b[39m.\u001b[39mread()\n\u001b[0;32m      8\u001b[0m \u001b[39m# Parse the HTML\u001b[39;00m\n",
      "\u001b[1;31mFileNotFoundError\u001b[0m: [Errno 2] No such file or directory: 'downloaded_pages/DTU-entrepreneurship.html'"
     ]
    }
   ],
   "source": [
    "from models_data.finetuned.extracted_code import response_0_code"
   ]
  }
 ],
 "metadata": {
  "kernelspec": {
   "display_name": "BP",
   "language": "python",
   "name": "python3"
  },
  "language_info": {
   "codemirror_mode": {
    "name": "ipython",
    "version": 3
   },
   "file_extension": ".py",
   "mimetype": "text/x-python",
   "name": "python",
   "nbconvert_exporter": "python",
   "pygments_lexer": "ipython3",
   "version": "3.11.4"
  }
 },
 "nbformat": 4,
 "nbformat_minor": 2
}
