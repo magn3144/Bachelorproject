{
 "cells": [
  {
   "cell_type": "code",
   "execution_count": 3,
   "metadata": {},
   "outputs": [],
   "source": [
    "from models_data.finetuned.extracted_code import response_0_code"
   ]
  },
  {
   "cell_type": "code",
   "execution_count": 6,
   "metadata": {},
   "outputs": [],
   "source": [
    "from models_data.finetuned.extracted_code import response_3_code"
   ]
  },
  {
   "cell_type": "code",
   "execution_count": null,
   "metadata": {},
   "outputs": [],
   "source": [
    "from models_data.finetuned.extracted_code import response_14_code"
   ]
  },
  {
   "cell_type": "code",
   "execution_count": 3,
   "metadata": {},
   "outputs": [
    {
     "data": {
      "application/vnd.jupyter.widget-view+json": {
       "model_id": "0e9fed923d2f4bb391516a99893b26c4",
       "version_major": 2,
       "version_minor": 0
      },
      "text/plain": [
       "Downloading data files:   0%|          | 0/3 [00:00<?, ?it/s]"
      ]
     },
     "metadata": {},
     "output_type": "display_data"
    },
    {
     "data": {
      "application/vnd.jupyter.widget-view+json": {
       "model_id": "685d55def648464982176f0b72a46682",
       "version_major": 2,
       "version_minor": 0
      },
      "text/plain": [
       "Downloading data:   0%|          | 0.00/13.2M [00:00<?, ?B/s]"
      ]
     },
     "metadata": {},
     "output_type": "display_data"
    },
    {
     "data": {
      "application/vnd.jupyter.widget-view+json": {
       "model_id": "d1c20a6f82474fcb903b106e4620cf4d",
       "version_major": 2,
       "version_minor": 0
      },
      "text/plain": [
       "Downloading data:   0%|          | 0.00/505k [00:00<?, ?B/s]"
      ]
     },
     "metadata": {},
     "output_type": "display_data"
    },
    {
     "data": {
      "application/vnd.jupyter.widget-view+json": {
       "model_id": "9eedf92c6d2a4edcb4065de51642b315",
       "version_major": 2,
       "version_minor": 0
      },
      "text/plain": [
       "Downloading data:   0%|          | 0.00/486k [00:00<?, ?B/s]"
      ]
     },
     "metadata": {},
     "output_type": "display_data"
    },
    {
     "data": {
      "application/vnd.jupyter.widget-view+json": {
       "model_id": "ad0054dfd28749e98cb6f4eb042f965e",
       "version_major": 2,
       "version_minor": 0
      },
      "text/plain": [
       "Extracting data files:   0%|          | 0/3 [00:00<?, ?it/s]"
      ]
     },
     "metadata": {},
     "output_type": "display_data"
    },
    {
     "data": {
      "application/vnd.jupyter.widget-view+json": {
       "model_id": "3c794a2edded401f934c31f29abeb21f",
       "version_major": 2,
       "version_minor": 0
      },
      "text/plain": [
       "Generating train split: 0 examples [00:00, ? examples/s]"
      ]
     },
     "metadata": {},
     "output_type": "display_data"
    },
    {
     "data": {
      "application/vnd.jupyter.widget-view+json": {
       "model_id": "0890d9f6639c4ecab326f074b2d5cdc2",
       "version_major": 2,
       "version_minor": 0
      },
      "text/plain": [
       "Generating validation split: 0 examples [00:00, ? examples/s]"
      ]
     },
     "metadata": {},
     "output_type": "display_data"
    },
    {
     "data": {
      "application/vnd.jupyter.widget-view+json": {
       "model_id": "de935d041724448e81cdffca5186fb78",
       "version_major": 2,
       "version_minor": 0
      },
      "text/plain": [
       "Generating test split: 0 examples [00:00, ? examples/s]"
      ]
     },
     "metadata": {},
     "output_type": "display_data"
    },
    {
     "name": "stdout",
     "output_type": "stream",
     "text": [
      "You are given a web page, the category of the page, randomly selected html elements on that page, the local path to the HTML file that should be scraped and a web-scraping task that you should solve.\n",
      "\n",
      "Here are some randomly selected HTML elements (containing text), and their corresponding XPaths from the target page:\n",
      "<a class=\"l1ovpqvx c1kblhex dir dir-ltr\">Airbnb-friendly apartments</a>\n",
      "/html/body/div[5]/div/div/div[1]/div/div[2]/main/div[3]/div[2]/footer/div/div/div[1]/section[2]/ul/li[6]/a\n",
      "----------------\n",
      "<a class=\"_r243u8q l1ovpqvx dir dir-ltr\">Terms</a>\n",
      "/html/body/div[5]/div/div/div[1]/div/div[2]/main/div[3]/div[2]/footer/div/div/div[2]/section/div[1]/div[2]/div/div[2]/span[2]/ol/li[1]/a\n",
      "----------------\n",
      "<span class=\"u17llcap dir dir-ltr\">Learn about Guest Favorites, the most loved homes </span>\n",
      "/html/body/div[5]/div/div/div[1]/div/div[2]/div[1]/div/div/div/div/h1/div[1]/a/span\n",
      "----------------\n",
      "<span class=\"dir dir-ltr\">Nov 18 – 25</span>\n",
      "/html/body/div[5]/div/div/div[1]/div/div[2]/main/div[2]/div/div/div/div/div[1]/div[10]/div/div[2]/div/div/div/div/div/div[2]/div[3]/span/span\n",
      "----------------\n",
      "<div class=\"db9tcim dir dir-ltr\" id=\"category-bar-description\">17 of 61 Airbnb Categories showing</div>\n",
      "/html/body/div[5]/div/div/div[1]/div/div[2]/div[3]/div/div/div/div/div/div/div/div[1]/div/div/div/div/div[1]\n",
      "----------------\n",
      "<div class=\"t1qa5xaj dir dir-ltr\">Guest favorite</div>\n",
      "/html/body/div[5]/div/div/div[1]/div/div[2]/main/div[2]/div/div/div/div/div[1]/div[20]/div/div[2]/div/div/div/div/div/div[1]/div/div/div[1]/div/div[1]/div[1]/div/div\n",
      "----------------\n",
      "<h2 class=\"hifxi0b dir dir-ltr\">Inspiration for future getaways</h2>\n",
      "/html/body/div[5]/div/div/div[1]/div/div[2]/main/div[3]/div[1]/div/div/div/div/h2\n",
      "----------------\n",
      "<h2 id=\"footerHeading\">Site Footer</h2>\n",
      "/html/body/div[5]/div/div/div[1]/div/div[2]/main/div[3]/div[2]/footer/div/div/span/h2\n",
      "----------------\n",
      "<h3 class=\"trsc28b dir dir-ltr\">Airbnb</h3>\n",
      "/html/body/div[5]/div/div/div[1]/div/div[2]/main/div[3]/div[2]/footer/div/div/div[1]/section[3]/h3\n",
      "----------------\n",
      "<a class=\"l1ovpqvx c1kblhex dir dir-ltr\">Airbnb.org emergency stays</a>\n",
      "/html/body/div[5]/div/div/div[1]/div/div[2]/main/div[3]/div[2]/footer/div/div/div[1]/section[3]/ul/li[6]/a\n",
      "----------------\n",
      "<a class=\"l1ovpqvx c1kblhex dir dir-ltr\">Careers</a>\n",
      "/html/body/div[5]/div/div/div[1]/div/div[2]/main/div[3]/div[2]/footer/div/div/div[1]/section[3]/ul/li[3]/a\n",
      "----------------\n",
      "<span class=\"u17llcap dir dir-ltr\">Learn about Guest Favorites, the most loved homes </span>\n",
      "/html/body/div[5]/div/div/div[1]/div/div[2]/div[1]/div/div/div/div/h1/div[3]/a/span\n",
      "----------------\n",
      "<span class=\"t4m7o8q t1mat252 dir dir-ltr\">Glasgow</span>\n",
      "/html/body/div[5]/div/div/div[1]/div/div[2]/main/div[3]/div[1]/div/div/div/div/div/div[2]/div[1]/ul/li[60]/a/span[1]\n",
      "----------------\n",
      "<div class=\"t1jojoys dir dir-ltr\" id=\"title_689161363553525770\">Nykøbing Sjælland, Denmark</div>\n",
      "/html/body/div[5]/div/div/div[1]/div/div[2]/main/div[2]/div/div/div/div/div[1]/div[35]/div/div[2]/div/div/div/div/div/div[2]/div[1]\n",
      "----------------\n",
      "<div class=\"t1jojoys dir dir-ltr\" id=\"title_43448743\">Frederiksværk, Denmark</div>\n",
      "/html/body/div[5]/div/div/div[1]/div/div[2]/main/div[2]/div/div/div/div/div[1]/div[13]/div/div[2]/div/div/div/div/div/div[2]/div[1]\n",
      "----------------\n",
      "<h3 class=\"trsc28b dir dir-ltr\">Support</h3>\n",
      "/html/body/div[5]/div/div/div[1]/div/div[2]/main/div[3]/div[2]/footer/div/div/div[1]/section[1]/h3\n",
      "----------------\n",
      "<a class=\"l1ovpqvx c1kblhex dir dir-ltr\">Report neighborhood concern</a>\n",
      "/html/body/div[5]/div/div/div[1]/div/div[2]/main/div[3]/div[2]/footer/div/div/div[1]/section[1]/ul/li[6]/a\n",
      "----------------\n",
      "<a class=\"l1ovpqvx c1kblhex dir dir-ltr\">New features</a>\n",
      "/html/body/div[5]/div/div/div[1]/div/div[2]/main/div[3]/div[2]/footer/div/div/div[1]/section[3]/ul/li[2]/a\n",
      "----------------\n",
      "<span class=\"u17llcap dir dir-ltr\">Learn about Guest Favorites, the most loved homes </span>\n",
      "/html/body/div[5]/div/div/div[1]/div/div[2]/div[1]/div/div/div/div/h1/div[2]/div/a/span\n",
      "----------------\n",
      "<span class=\"t4m7o8q t1mat252 dir dir-ltr\">Santorini</span>\n",
      "/html/body/div[5]/div/div/div[1]/div/div[2]/main/div[3]/div[1]/div/div/div/div/div/div[2]/div[1]/ul/li[38]/a/span[1]\n",
      "----------------\n",
      "<div class=\"t1qa5xaj dir dir-ltr\">Guest favorite</div>\n",
      "/html/body/div[5]/div/div/div[1]/div/div[2]/main/div[2]/div/div/div/div/div[1]/div[13]/div/div[2]/div/div/div/div/div/div[1]/div/div/div[1]/div/div[1]/div[1]/div/div\n",
      "----------------\n",
      "<h3 class=\"trsc28b dir dir-ltr\">Hosting</h3>\n",
      "/html/body/div[5]/div/div/div[1]/div/div[2]/main/div[3]/div[2]/footer/div/div/div[1]/section[2]/h3\n",
      "----------------\n",
      "<a class=\"l1ovpqvx c1kblhex dir dir-ltr\">Community forum</a>\n",
      "/html/body/div[5]/div/div/div[1]/div/div[2]/main/div[3]/div[2]/footer/div/div/div[1]/section[2]/ul/li[4]/a\n",
      "----------------\n",
      "<span class=\"a8jt5op dir dir-ltr\">395 kr DKK per night</span>\n",
      "/html/body/div[5]/div/div/div[1]/div/div[2]/main/div[2]/div/div/div/div/div[1]/div[29]/div/div[2]/div/div/div/div/div/div[2]/div[4]/div/div/span/span\n",
      "----------------\n",
      "<div class=\"t1qa5xaj dir dir-ltr\">Guest favorite</div>\n",
      "/html/body/div[5]/div/div/div[1]/div/div[2]/main/div[2]/div/div/div/div/div[1]/div[12]/div/div[2]/div/div/div/div/div/div[1]/div/div/div[1]/div/div[1]/div[1]/div/div\n",
      "----------------\n",
      "<a class=\"_r243u8q l1ovpqvx dir dir-ltr\">Privacy</a>\n",
      "/html/body/div[5]/div/div/div[1]/div/div[2]/main/div[3]/div[2]/footer/div/div/div[2]/section/div[3]/div[1]/div/div[2]/span[2]/ol/li[3]/a\n",
      "----------------\n",
      "<span class=\"a8jt5op dir dir-ltr\">979 kr DKK per night</span>\n",
      "/html/body/div[5]/div/div/div[1]/div/div[2]/main/div[2]/div/div/div/div/div[1]/div[23]/div/div[2]/div/div/div/div/div/div[2]/div[4]/div/div/span/span\n",
      "----------------\n",
      "<div class=\"t1qa5xaj dir dir-ltr\">Guest favorite</div>\n",
      "Do NOT include these directly in your code!\n",
      "\n",
      "The page is from this website: airbnb\n",
      "\n",
      "The local path to the HTML file is downloaded_pages/airbnb.html\n",
      "\n",
      "The category is: Tourism\n",
      "\n",
      "The task is: Scrape all links in the footer under support, hosting and Airbnb, and save them in a CSV in three seperate columns.\n",
      "\n",
      "Now generate a python script that solves this task.\n",
      "Make sure the script works when I run it, without any modifications.\n",
      "The script you generate should always save the scraped data as a CSV file with the name 'scraped_data.csv'.\n",
      "You can use the given HTML elements above to gain information about the page. ### Response: ```\n",
      "\n",
      "\n",
      "\n"
     ]
    }
   ],
   "source": [
    "from datasets import load_dataset\n",
    "\n",
    "def get_prompt(dataset, index):\n",
    "    return dataset[index] + \" ### Response: ```\"\n",
    "\n",
    "dataset_name = \"magnus42/GPTWebScrapingPythonCode\"\n",
    "test_set = load_dataset(dataset_name, split=\"test\")[\"prompt\"]\n",
    "\n",
    "for i in range(1):\n",
    "    prompt = get_prompt(test_set, i)\n",
    "    print(prompt)\n",
    "    print(\"\\n\\n\")"
   ]
  }
 ],
 "metadata": {
  "kernelspec": {
   "display_name": "BP",
   "language": "python",
   "name": "python3"
  },
  "language_info": {
   "codemirror_mode": {
    "name": "ipython",
    "version": 3
   },
   "file_extension": ".py",
   "mimetype": "text/x-python",
   "name": "python",
   "nbconvert_exporter": "python",
   "pygments_lexer": "ipython3",
   "version": "3.10.12"
  }
 },
 "nbformat": 4,
 "nbformat_minor": 2
}
