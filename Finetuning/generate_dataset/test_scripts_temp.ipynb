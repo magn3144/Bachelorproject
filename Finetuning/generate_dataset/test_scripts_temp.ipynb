{
 "cells": [
  {
   "cell_type": "code",
   "execution_count": null,
   "metadata": {},
   "outputs": [],
   "source": [
    "import os\n",
    "import pandas as pd\n",
    "import json\n",
    "\n",
    "# Load dict from json file\n",
    "check_dict = {}\n",
    "try:\n",
    "    with open('check_dict.json', 'r') as f:\n",
    "        check_dict = json.load(f)\n",
    "except:\n",
    "    pass\n",
    "\n",
    "for folder in os.listdir('solution_code'):\n",
    "    for filename in os.listdir(f'solution_code/{folder}'):\n",
    "        if filename[:-3] in check_dict.keys():\n",
    "            continue\n",
    "\n",
    "        import_line = f'from solution_code.{folder} import {filename[:-3]}'\n",
    "        print(import_line)\n",
    "\n",
    "        try:\n",
    "            exec(import_line)\n",
    "        except:\n",
    "            check_dict[filename[:-3]] = False\n",
    "            continue\n",
    "\n",
    "        try:\n",
    "            df = pd.read_csv('scraped_data.csv')\n",
    "        except:\n",
    "            check_dict[filename[:-3]] = False\n",
    "            continue\n",
    "\n",
    "        if df.shape[0] > 1:\n",
    "            check_dict[filename[:-3]] = True\n",
    "        else:\n",
    "            check_dict[filename[:-3]] = False\n",
    "        \n",
    "        # Save dict to json file\n",
    "        with open('check_dict.json', 'w') as f:\n",
    "            json.dump(check_dict, f)\n",
    "\n",
    "print(check_dict)"
   ]
  },
  {
   "cell_type": "code",
   "execution_count": null,
   "metadata": {},
   "outputs": [],
   "source": [
    "import os\n",
    "import pandas as pd\n",
    "import json\n",
    "import webbrowser\n",
    "\n",
    "\n",
    "# Load dict from json file\n",
    "check_dict = {}\n",
    "try:\n",
    "    with open('manual_check_dict.json', 'r') as f:\n",
    "        check_dict = json.load(f)\n",
    "except:\n",
    "    pass\n",
    "\n",
    "for folder in os.listdir('solution_code'):\n",
    "    file_path = f'downloaded_pages/{folder}.html'\n",
    "    absolute_path = os.path.abspath(file_path)\n",
    "    webbrowser.open('file://' + absolute_path)\n",
    "\n",
    "    for i, filename in enumerate(os.listdir(f'solution_code/{folder}')):\n",
    "        if filename[:-3] in check_dict.keys():\n",
    "            continue\n",
    "\n",
    "        import_line = f'from solution_code.{folder} import {filename[:-3]}'\n",
    "        print(\"Checking \" + filename[:-3])\n",
    "\n",
    "        try:\n",
    "            exec(import_line)\n",
    "        except:\n",
    "            check_dict[filename[:-3]] = 0\n",
    "            print(\"Could not execute script\")\n",
    "            continue\n",
    "\n",
    "        try:\n",
    "            df = pd.read_csv('scraped_data.csv')\n",
    "        except:\n",
    "            check_dict[filename[:-3]] = 1\n",
    "            print(\"Could not read csv\")\n",
    "            continue\n",
    "        \n",
    "        # If there is no data and no header\n",
    "        if df.shape[0] == 0 and df.shape[1] == 0:\n",
    "            check_dict[filename[:-3]] = 2\n",
    "            print(\"No data in csv\")\n",
    "            continue\n",
    "\n",
    "        with open(f'scraping_tasks/{filename.split(\"_\")[0]}.txt', 'r') as f:\n",
    "            tasks = f.read()\n",
    "            print(tasks.split('\\n')[i])\n",
    "\n",
    "        yes_no = input(\"Does the data look correct? (y/n): \")\n",
    "        if yes_no == 'y':\n",
    "            check_dict[filename[:-3]] = 4\n",
    "        else:\n",
    "            check_dict[filename[:-3]] = 3\n",
    "        \n",
    "        # Save dict to json file\n",
    "        with open('manual_check_dict.json', 'w') as f:\n",
    "            json.dump(check_dict, f)"
   ]
  },
  {
   "cell_type": "code",
   "execution_count": null,
   "metadata": {},
   "outputs": [],
   "source": [
    "d = {\"airbnb_1\": 4, \"airbnb_2\": 4, \"airbnb_3\": 4, \"airbnb_4\": 4, \"airbnb_5\": 3, \"airbnb_6\": 3, \"airbnb_7\": 3, \"airbnb_8\": 3, \"airbnb_9\": 3, \"alibaba_0\": 3, \"alibaba_1\": 3, \"alibaba_2\": 0, \"alibaba_3\": 4, \"alibaba_4\": 4, \"alibaba_5\": 4, \"alibaba_6\": 4, \"alibaba_7\": 3, \"alibaba_8\": 4, \"alibaba_9\": 0, \"aliexpress_0\": 3, \"aliexpress_1\": 0, \"aliexpress_2\": 3, \"aliexpress_3\": 0, \"aliexpress_4\": 0, \"aliexpress_5\": 3, \"aliexpress_6\": 4}\n",
    "count = sum(1 for value in d.values() if value in [3, 4])\n",
    "print(count)\n",
    "\n",
    "# Took 18 minutes to check 21 scripts\n"
   ]
  },
  {
   "cell_type": "code",
   "execution_count": null,
   "metadata": {},
   "outputs": [],
   "source": [
    "import os\n",
    "import webbrowser\n",
    "\n",
    "file_path = 'downloaded_pages/DTU_entrepreneurship.html'\n",
    "absolute_path = os.path.abspath(file_path)\n",
    "webbrowser.open('file://' + absolute_path)"
   ]
  },
  {
   "cell_type": "code",
   "execution_count": null,
   "metadata": {},
   "outputs": [],
   "source": [
    "from solution_code.DTU_entrepreneurship import DTU_entrepreneurship_0\n",
    "# Correct"
   ]
  },
  {
   "cell_type": "code",
   "execution_count": null,
   "metadata": {},
   "outputs": [],
   "source": [
    "from solution_code.DTU_entrepreneurship import DTU_entrepreneurship_1\n",
    "# Correct"
   ]
  },
  {
   "cell_type": "code",
   "execution_count": null,
   "metadata": {},
   "outputs": [],
   "source": [
    "from solution_code.DTU_entrepreneurship import DTU_entrepreneurship_2\n",
    "# Correct"
   ]
  },
  {
   "cell_type": "code",
   "execution_count": null,
   "metadata": {},
   "outputs": [],
   "source": [
    "from solution_code.DTU_entrepreneurship import DTU_entrepreneurship_3\n",
    "# Correct"
   ]
  },
  {
   "cell_type": "code",
   "execution_count": null,
   "metadata": {},
   "outputs": [],
   "source": [
    "from solution_code.DTU_entrepreneurship import DTU_entrepreneurship_4\n",
    "# Correct"
   ]
  },
  {
   "cell_type": "code",
   "execution_count": null,
   "metadata": {},
   "outputs": [],
   "source": [
    "from solution_code.DTU_entrepreneurship import DTU_entrepreneurship_5\n",
    "# Correct"
   ]
  },
  {
   "cell_type": "code",
   "execution_count": null,
   "metadata": {},
   "outputs": [],
   "source": [
    "from solution_code.DTU_entrepreneurship import DTU_entrepreneurship_6\n",
    "# Correct"
   ]
  },
  {
   "cell_type": "code",
   "execution_count": null,
   "metadata": {},
   "outputs": [],
   "source": [
    "from solution_code.DTU_entrepreneurship import DTU_entrepreneurship_7\n",
    "# Correct"
   ]
  },
  {
   "cell_type": "code",
   "execution_count": null,
   "metadata": {},
   "outputs": [],
   "source": [
    "from solution_code.DTU_entrepreneurship import DTU_entrepreneurship_8\n",
    "# Correct"
   ]
  },
  {
   "cell_type": "code",
   "execution_count": null,
   "metadata": {},
   "outputs": [],
   "source": [
    "from solution_code.DTU_entrepreneurship import DTU_entrepreneurship_9\n",
    "# Correct"
   ]
  },
  {
   "cell_type": "code",
   "execution_count": null,
   "metadata": {},
   "outputs": [],
   "source": [
    "import os\n",
    "import webbrowser\n",
    "\n",
    "file_path = 'downloaded_pages/imdb.html'\n",
    "absolute_path = os.path.abspath(file_path)\n",
    "webbrowser.open('file://' + absolute_path)"
   ]
  },
  {
   "cell_type": "code",
   "execution_count": null,
   "metadata": {},
   "outputs": [],
   "source": [
    "from solution_code.imdb import imdb_0\n",
    "# Correct"
   ]
  },
  {
   "cell_type": "code",
   "execution_count": null,
   "metadata": {},
   "outputs": [],
   "source": [
    "from solution_code.imdb import imdb_1\n",
    "# Correct"
   ]
  },
  {
   "cell_type": "code",
   "execution_count": null,
   "metadata": {},
   "outputs": [],
   "source": [
    "from solution_code.imdb import imdb_2\n",
    "# Correct"
   ]
  },
  {
   "cell_type": "code",
   "execution_count": null,
   "metadata": {},
   "outputs": [],
   "source": [
    "from solution_code.imdb import imdb_3\n",
    "# Correct"
   ]
  },
  {
   "cell_type": "code",
   "execution_count": null,
   "metadata": {},
   "outputs": [],
   "source": [
    "from solution_code.imdb import imdb_4\n",
    "# Correct"
   ]
  },
  {
   "cell_type": "code",
   "execution_count": null,
   "metadata": {},
   "outputs": [],
   "source": [
    "from solution_code.imdb import imdb_5\n",
    "# Correct"
   ]
  },
  {
   "cell_type": "code",
   "execution_count": 1,
   "metadata": {},
   "outputs": [],
   "source": [
    "from solution_code.imdb import imdb_6\n",
    "# Correct"
   ]
  },
  {
   "cell_type": "code",
   "execution_count": 1,
   "metadata": {},
   "outputs": [],
   "source": [
    "from solution_code.imdb import imdb_7\n",
    "# Correct"
   ]
  },
  {
   "cell_type": "code",
   "execution_count": 2,
   "metadata": {},
   "outputs": [],
   "source": [
    "from solution_code.imdb import imdb_8\n",
    "# Correct"
   ]
  },
  {
   "cell_type": "code",
   "execution_count": 3,
   "metadata": {},
   "outputs": [],
   "source": [
    "from solution_code.imdb import imdb_9\n",
    "# Correct"
   ]
  }
 ],
 "metadata": {
  "kernelspec": {
   "display_name": "BP",
   "language": "python",
   "name": "python3"
  },
  "language_info": {
   "codemirror_mode": {
    "name": "ipython",
    "version": 3
   },
   "file_extension": ".py",
   "mimetype": "text/x-python",
   "name": "python",
   "nbconvert_exporter": "python",
   "pygments_lexer": "ipython3",
   "version": "3.11.4"
  }
 },
 "nbformat": 4,
 "nbformat_minor": 2
}
