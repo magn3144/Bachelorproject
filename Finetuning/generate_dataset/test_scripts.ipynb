{
 "cells": [
  {
   "cell_type": "code",
   "execution_count": null,
   "metadata": {},
   "outputs": [],
   "source": [
    "import os\n",
    "import sys\n",
    "\n",
    "# replace with the absolute path to your 'downloaded_pages' directory\n",
    "downloaded_pages_dir = 'C:\\\\Users\\\\magnu\\\\Documents\\\\GitHub Projects\\\\Bachelorproject\\\\Finetuning\\\\generate_dataset'\n",
    "\n",
    "# change the current working directory\n",
    "os.chdir(downloaded_pages_dir)\n",
    "\n",
    "sys.path.append(downloaded_pages_dir)\n",
    "\n",
    "from solution_code.airbnb import airbnb_1"
   ]
  },
  {
   "cell_type": "code",
   "execution_count": 7,
   "metadata": {},
   "outputs": [
    {
     "name": "stdout",
     "output_type": "stream",
     "text": [
      "import csv\n",
      "import os\n",
      "from lxml import html, etree\n",
      "\n",
      "class XpathScraper:\n",
      "\n",
      "    def __init__(self, html_file_path):\n",
      "        self.html_file_path = html_file_path\n",
      "        self.tree = self._load_html()\n",
      "        \n",
      "    def _load_html(self):\n",
      "        with open(self.html_file_path, 'r') as file:\n",
      "            src = file.read()\n",
      "        return html.fromstring(src)\n",
      "\n",
      "    def get_links_from_section(self, section):\n",
      "        xpath = f'//h3[text()=\"{section}\"]/following-sibling::ul[1]/li/a/@href'\n",
      "        return self.tree.xpath(xpath)\n",
      "\n",
      "\n",
      "scraper = XpathScraper('downloaded_pages/airbnb.html')\n",
      "sections = ['Support', 'Hosting', 'Airbnb']\n",
      "\n",
      "data = {}\n",
      "for section in sections:\n",
      "    data[section] = scraper.get_links_from_section(section)\n",
      "\n",
      "longest_list_len = max(len(data[section]) for section in sections)\n",
      "\n",
      "# Normalize list lengths\n",
      "for section in sections:\n",
      "    data[section].extend([''] * (longest_list_len - len(data[section])))\n",
      "\n",
      "with open('scraped_data.csv', 'w', newline='') as csvfile:\n",
      "    writer = csv.writer(csvfile)\n",
      "    writer.writerow(sections)\n",
      "    writer.writerows(zip(*data.values()))\n",
      "\n"
     ]
    },
    {
     "ename": "FileNotFoundError",
     "evalue": "[Errno 2] No such file or directory: 'downloaded_pages/airbnb.html'",
     "output_type": "error",
     "traceback": [
      "\u001b[1;31m---------------------------------------------------------------------------\u001b[0m",
      "\u001b[1;31mFileNotFoundError\u001b[0m                         Traceback (most recent call last)",
      "\u001b[1;32mc:\\Users\\magnu\\Documents\\GitHub Projects\\Bachelorproject\\Finetuning\\generate_dataset\\test_scripts.ipynb Cell 1\u001b[0m line \u001b[0;36m8\n\u001b[0;32m      <a href='vscode-notebook-cell:/c%3A/Users/magnu/Documents/GitHub%20Projects/Bachelorproject/Finetuning/generate_dataset/test_scripts.ipynb#W0sZmlsZQ%3D%3D?line=4'>5</a>\u001b[0m \u001b[39mprint\u001b[39m(code_string)\n\u001b[0;32m      <a href='vscode-notebook-cell:/c%3A/Users/magnu/Documents/GitHub%20Projects/Bachelorproject/Finetuning/generate_dataset/test_scripts.ipynb#W0sZmlsZQ%3D%3D?line=6'>7</a>\u001b[0m \u001b[39m# Run code\u001b[39;00m\n\u001b[1;32m----> <a href='vscode-notebook-cell:/c%3A/Users/magnu/Documents/GitHub%20Projects/Bachelorproject/Finetuning/generate_dataset/test_scripts.ipynb#W0sZmlsZQ%3D%3D?line=7'>8</a>\u001b[0m exec(code_string)\n",
      "File \u001b[1;32m<string>:21\u001b[0m\n",
      "File \u001b[1;32m<string>:9\u001b[0m, in \u001b[0;36m__init__\u001b[1;34m(self, html_file_path)\u001b[0m\n",
      "File \u001b[1;32m<string>:12\u001b[0m, in \u001b[0;36m_load_html\u001b[1;34m(self)\u001b[0m\n",
      "File \u001b[1;32mc:\\Users\\magnu\\anaconda3\\envs\\BP\\Lib\\site-packages\\IPython\\core\\interactiveshell.py:286\u001b[0m, in \u001b[0;36m_modified_open\u001b[1;34m(file, *args, **kwargs)\u001b[0m\n\u001b[0;32m    279\u001b[0m \u001b[39mif\u001b[39;00m file \u001b[39min\u001b[39;00m {\u001b[39m0\u001b[39m, \u001b[39m1\u001b[39m, \u001b[39m2\u001b[39m}:\n\u001b[0;32m    280\u001b[0m     \u001b[39mraise\u001b[39;00m \u001b[39mValueError\u001b[39;00m(\n\u001b[0;32m    281\u001b[0m         \u001b[39mf\u001b[39m\u001b[39m\"\u001b[39m\u001b[39mIPython won\u001b[39m\u001b[39m'\u001b[39m\u001b[39mt let you open fd=\u001b[39m\u001b[39m{\u001b[39;00mfile\u001b[39m}\u001b[39;00m\u001b[39m by default \u001b[39m\u001b[39m\"\u001b[39m\n\u001b[0;32m    282\u001b[0m         \u001b[39m\"\u001b[39m\u001b[39mas it is likely to crash IPython. If you know what you are doing, \u001b[39m\u001b[39m\"\u001b[39m\n\u001b[0;32m    283\u001b[0m         \u001b[39m\"\u001b[39m\u001b[39myou can use builtins\u001b[39m\u001b[39m'\u001b[39m\u001b[39m open.\u001b[39m\u001b[39m\"\u001b[39m\n\u001b[0;32m    284\u001b[0m     )\n\u001b[1;32m--> 286\u001b[0m \u001b[39mreturn\u001b[39;00m io_open(file, \u001b[39m*\u001b[39;49margs, \u001b[39m*\u001b[39;49m\u001b[39m*\u001b[39;49mkwargs)\n",
      "\u001b[1;31mFileNotFoundError\u001b[0m: [Errno 2] No such file or directory: 'downloaded_pages/airbnb.html'"
     ]
    }
   ],
   "source": [
    "# Read code from file\n",
    "with open('solution_code/airbnb/airbnb_0.py', 'r') as file:\n",
    "    code_string = file.read()\n",
    "\n",
    "print(code_string)\n",
    "\n",
    "# Run code\n",
    "exec(code_string)"
   ]
  },
  {
   "cell_type": "code",
   "execution_count": null,
   "metadata": {},
   "outputs": [],
   "source": [
    "import airbnb_1"
   ]
  },
  {
   "cell_type": "code",
   "execution_count": null,
   "metadata": {},
   "outputs": [],
   "source": [
    "import airbnb_2"
   ]
  },
  {
   "cell_type": "code",
   "execution_count": null,
   "metadata": {},
   "outputs": [],
   "source": [
    "import airbnb_3"
   ]
  },
  {
   "cell_type": "code",
   "execution_count": null,
   "metadata": {},
   "outputs": [],
   "source": [
    "import airbnb_4"
   ]
  }
 ],
 "metadata": {
  "kernelspec": {
   "display_name": "BP",
   "language": "python",
   "name": "python3"
  },
  "language_info": {
   "codemirror_mode": {
    "name": "ipython",
    "version": 3
   },
   "file_extension": ".py",
   "mimetype": "text/x-python",
   "name": "python",
   "nbconvert_exporter": "python",
   "pygments_lexer": "ipython3",
   "version": "3.11.4"
  }
 },
 "nbformat": 4,
 "nbformat_minor": 2
}
