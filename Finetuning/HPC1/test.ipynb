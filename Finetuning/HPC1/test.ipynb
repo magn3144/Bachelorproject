{
 "cells": [
  {
   "cell_type": "code",
   "execution_count": 2,
   "metadata": {},
   "outputs": [
    {
     "name": "stdout",
     "output_type": "stream",
     "text": [
      "0.00023999999999999998\n"
     ]
    }
   ],
   "source": [
    "x = 6e-4 * 0.4\n",
    "print(x)"
   ]
  },
  {
   "cell_type": "code",
   "execution_count": 4,
   "metadata": {},
   "outputs": [],
   "source": [
    "lr_values = [0.4 * 6e-4, 0.6 * 6e-4, 0.8 * 6e-4, 6e-4, 1.2 * 6e-4, 1.4 * 6e-4]\n",
    "lr_values = [round(lr, 7) for lr in lr_values]\n",
    "epochs_values = [1, 2, 3, 4, 5, 6]\n",
    "for lr in lr_values:\n",
    "    for epochs in epochs_values:\n",
    "        print(f\"finetuned_lr{lr}_e{epochs}\")"
   ]
  }
 ],
 "metadata": {
  "kernelspec": {
   "display_name": "BP",
   "language": "python",
   "name": "python3"
  },
  "language_info": {
   "codemirror_mode": {
    "name": "ipython",
    "version": 3
   },
   "file_extension": ".py",
   "mimetype": "text/x-python",
   "name": "python",
   "nbconvert_exporter": "python",
   "pygments_lexer": "ipython3",
   "version": "3.11.4"
  }
 },
 "nbformat": 4,
 "nbformat_minor": 2
}
