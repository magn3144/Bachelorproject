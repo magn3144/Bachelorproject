{
 "cells": [
  {
   "cell_type": "code",
   "execution_count": 1,
   "metadata": {},
   "outputs": [
    {
     "name": "stdout",
     "output_type": "stream",
     "text": [
      "                              Name Start Date End Date\n",
      "0          Research og få overblik      Sep 1    Sep 5\n",
      "1                      Projektplan      Sep 5   Sep 11\n",
      "2  Prototype af webscraper backend      Sep 5   Sep 11\n",
      "3              Evaluerings Dataset     Sep 11   Sep 25\n",
      "4                Transfer Learning     Sep 18   Oct 16\n"
     ]
    },
    {
     "name": "stderr",
     "output_type": "stream",
     "text": [
      "C:\\Users\\magnu\\AppData\\Local\\Temp\\ipykernel_13432\\1365179872.py:37: FutureWarning: Styler.applymap has been deprecated. Use Styler.map instead.\n",
      "  new_df.style.applymap(lambda x: \"background-color: green\" if x == 1 else \"\")\n"
     ]
    }
   ],
   "source": [
    "import pandas as pd\n",
    "\n",
    "# Read the data from the csv file\n",
    "data = pd.read_csv(\"tidsplan.csv\")\n",
    "\n",
    "# Convert the data to a DataFrame\n",
    "df = pd.DataFrame(data)\n",
    "print(df.head())\n",
    "\n",
    "# Add all dates from september 1. to december 15. to the columns list\n",
    "columns = []\n",
    "for i in range(1, 31):\n",
    "    columns.append(f\"Sep {i}\")\n",
    "for i in range(1, 32):\n",
    "    columns.append(f\"Oct {i}\")\n",
    "for i in range(1, 31):\n",
    "    columns.append(f\"Nov {i}\")\n",
    "for i in range(1, 16):\n",
    "    columns.append(f\"Dec {i}\")\n",
    "\n",
    "# Create a new DataFrame with the name and columns list as columns\n",
    "new_df = pd.DataFrame(columns=[\"Name\"] + columns)\n",
    "\n",
    "# Mark all dates between the start and end date of each task as 1\n",
    "for index, row in df.iterrows():\n",
    "    if index == 0:\n",
    "        continue\n",
    "    for date in columns:\n",
    "        if date >= row[\"Start Date\"] and date <= row[\"End Date\"]:\n",
    "            new_df.loc[index, date] = 1\n",
    "\n",
    "# Fill all NaN values with 0\n",
    "new_df.fillna(0, inplace=True)\n",
    "\n",
    "# Generate an excel file from the DataFrame where each cell is a day and each row is a task\n",
    "# Cells with a 1 are marked as green\n",
    "new_df.style.applymap(lambda x: \"background-color: green\" if x == 1 else \"\")\n",
    "\n",
    "# Remove the 0 and 1 from the cells\n",
    "new_df.replace(0, \"\", inplace=True)\n",
    "new_df.replace(1, \"\", inplace=True)\n",
    "\n",
    "# Save the excel file\n",
    "new_df.to_excel(\"gantt_chart.xlsx\")"
   ]
  }
 ],
 "metadata": {
  "kernelspec": {
   "display_name": "BP",
   "language": "python",
   "name": "python3"
  },
  "language_info": {
   "codemirror_mode": {
    "name": "ipython",
    "version": 3
   },
   "file_extension": ".py",
   "mimetype": "text/x-python",
   "name": "python",
   "nbconvert_exporter": "python",
   "pygments_lexer": "ipython3",
   "version": "3.11.4"
  },
  "orig_nbformat": 4
 },
 "nbformat": 4,
 "nbformat_minor": 2
}
